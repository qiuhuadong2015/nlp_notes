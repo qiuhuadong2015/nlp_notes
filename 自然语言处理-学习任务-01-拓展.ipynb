{
 "cells": [
  {
   "cell_type": "markdown",
   "metadata": {},
   "source": [
    "## 基于模式匹配的对话机器人"
   ]
  },
  {
   "cell_type": "markdown",
   "metadata": {},
   "source": [
    "效果\n",
    "```\n",
    "Pattern: (我想要A)\n",
    "Response: (如果你有 A，对你意味着什么呢？)\n",
    "\n",
    "Input: (我想要度假)\n",
    "Response: (如果你有度假，对你意味着什么呢？)\n",
    "```"
   ]
  },
  {
   "cell_type": "code",
   "execution_count": 62,
   "metadata": {},
   "outputs": [],
   "source": [
    "# 定义占位符格式 ?+字母\n",
    "def is_variable(pat):\n",
    "    return pat.startswith('?') and all(s.isalpha() for s in pat[1:])"
   ]
  },
  {
   "cell_type": "code",
   "execution_count": 63,
   "metadata": {},
   "outputs": [],
   "source": [
    "# 语句列表和模式列表是否匹配\n",
    "def pat_match(pattern, saying):\n",
    "    if is_variable(pattern[0]): return True\n",
    "    else:\n",
    "        if pattern[0] != saying[0]: return False\n",
    "        else:\n",
    "            return pat_match(pattern[1:], saying[1:])"
   ]
  },
  {
   "cell_type": "markdown",
   "metadata": {},
   "source": [
    "### 获得匹配的变量"
   ]
  },
  {
   "cell_type": "markdown",
   "metadata": {},
   "source": [
    "以上的函数能够判断两个 pattern 是不是相符，但是我们更加希望的是获得每个variable对应的是什么值。\n",
    "\n",
    "我们对程序做如下修改:"
   ]
  },
  {
   "cell_type": "code",
   "execution_count": 64,
   "metadata": {},
   "outputs": [],
   "source": [
    "# 语句列表和模式列表是否匹配，若是则返回匹配内容。支持识别一个占位符的对应关系\n",
    "def pat_match(pattern, saying):\n",
    "    if is_variable(pattern[0]):\n",
    "        return pattern[0], saying[0]\n",
    "    else:\n",
    "        if pattern[0] != saying[0]: return False\n",
    "        else:\n",
    "            return pat_match(pattern[1:], saying[1:])"
   ]
  },
  {
   "cell_type": "code",
   "execution_count": 65,
   "metadata": {},
   "outputs": [],
   "source": [
    "pattern = 'I want ?X'.split()\n",
    "saying = \"I want holiday\".split()"
   ]
  },
  {
   "cell_type": "code",
   "execution_count": 66,
   "metadata": {},
   "outputs": [
    {
     "data": {
      "text/plain": [
       "('?X', 'holiday')"
      ]
     },
     "execution_count": 66,
     "metadata": {},
     "output_type": "execute_result"
    }
   ],
   "source": [
    "pat_match(pattern, saying)"
   ]
  },
  {
   "cell_type": "code",
   "execution_count": 67,
   "metadata": {},
   "outputs": [
    {
     "data": {
      "text/plain": [
       "('?X', '2+2')"
      ]
     },
     "execution_count": 67,
     "metadata": {},
     "output_type": "execute_result"
    }
   ],
   "source": [
    "pat_match(\"?X equals ?X\".split(), \"2+2 equals 2+2\".split())# 不支持多个变量"
   ]
  },
  {
   "cell_type": "code",
   "execution_count": 68,
   "metadata": {},
   "outputs": [],
   "source": [
    "# 语句列表和模式列表是否匹配，若是则返回匹配内容。支持识别多个占位符的对应关系\n",
    "def pat_match(pattern, saying):\n",
    "    if not pattern or not saying: return []\n",
    "    \n",
    "    if is_variable(pattern[0]):\n",
    "        return [(pattern[0], saying[0])] + pat_match(pattern[1:], saying[1:])\n",
    "    else:\n",
    "        if pattern[0] != saying[0]: return []\n",
    "        else:\n",
    "            return pat_match(pattern[1:], saying[1:])"
   ]
  },
  {
   "cell_type": "code",
   "execution_count": 69,
   "metadata": {},
   "outputs": [
    {
     "data": {
      "text/plain": [
       "[('?X', '3'), ('?Y', '2')]"
      ]
     },
     "execution_count": 69,
     "metadata": {},
     "output_type": "execute_result"
    }
   ],
   "source": [
    "pat_match(\"?X greater than ?Y\".split(), \"3 greater than 2\".split())# 支持多个变量"
   ]
  },
  {
   "cell_type": "markdown",
   "metadata": {},
   "source": [
    "#### 支持多语句的同名变量关联\n",
    "如果我们知道了每个变量对应的是什么，那么我们就可以很方便的使用我们定义好的模板进行替换："
   ]
  },
  {
   "cell_type": "markdown",
   "metadata": {},
   "source": [
    "为了方便接下来的替换工作，我们新建立两个函数，一个是把我们解析出来的结果变成一个 dictionary，一个是依据这个 dictionary 依照我们的定义的方式进行替换。"
   ]
  },
  {
   "cell_type": "code",
   "execution_count": 70,
   "metadata": {},
   "outputs": [],
   "source": [
    "# 占位符对应关系以字典存储\n",
    "def pat_to_dict(patterns):\n",
    "    return {k: v for k, v in patterns}"
   ]
  },
  {
   "cell_type": "code",
   "execution_count": 71,
   "metadata": {},
   "outputs": [],
   "source": [
    "# 模板占位符根据字典取值\n",
    "def subsitite(rule, parsed_rules):\n",
    "    if not rule: return []\n",
    "    \n",
    "    return [parsed_rules.get(rule[0], rule[0])] + subsitite(rule[1:], parsed_rules)"
   ]
  },
  {
   "cell_type": "code",
   "execution_count": 72,
   "metadata": {},
   "outputs": [],
   "source": [
    "got_patterns = pat_match(\"I want ?X\".split(), \"I want iPhone\".split())"
   ]
  },
  {
   "cell_type": "code",
   "execution_count": 73,
   "metadata": {},
   "outputs": [
    {
     "data": {
      "text/plain": [
       "[('?X', 'iPhone')]"
      ]
     },
     "execution_count": 73,
     "metadata": {},
     "output_type": "execute_result"
    }
   ],
   "source": [
    "got_patterns"
   ]
  },
  {
   "cell_type": "code",
   "execution_count": 74,
   "metadata": {},
   "outputs": [
    {
     "data": {
      "text/plain": [
       "['What', 'if', 'you', 'mean', 'if', 'you', 'got', 'a', 'iPhone']"
      ]
     },
     "execution_count": 74,
     "metadata": {},
     "output_type": "execute_result"
    }
   ],
   "source": [
    "subsitite(\"What if you mean if you got a ?X\".split(), pat_to_dict(got_patterns))"
   ]
  },
  {
   "cell_type": "markdown",
   "metadata": {},
   "source": [
    "为了将以上输出变成一句话，也很简单，我们使用 Python 的 join 方法即可： "
   ]
  },
  {
   "cell_type": "code",
   "execution_count": 75,
   "metadata": {},
   "outputs": [],
   "source": [
    "john_pat = pat_match('?P needs ?X'.split(), \"John needs resting\".split())"
   ]
  },
  {
   "cell_type": "code",
   "execution_count": 76,
   "metadata": {},
   "outputs": [
    {
     "data": {
      "text/plain": [
       "'What if you mean if you got a iPhone'"
      ]
     },
     "execution_count": 76,
     "metadata": {},
     "output_type": "execute_result"
    }
   ],
   "source": [
    "' '.join(subsitite(\"What if you mean if you got a ?X\".split(), pat_to_dict(got_patterns)))"
   ]
  },
  {
   "cell_type": "code",
   "execution_count": 77,
   "metadata": {},
   "outputs": [],
   "source": [
    "john_pat = pat_match('?P needs ?X'.split(), \"John needs vacation\".split())"
   ]
  },
  {
   "cell_type": "code",
   "execution_count": 78,
   "metadata": {},
   "outputs": [
    {
     "data": {
      "text/plain": [
       "['Why', 'does', 'John', 'need', 'vacation', '?']"
      ]
     },
     "execution_count": 78,
     "metadata": {},
     "output_type": "execute_result"
    }
   ],
   "source": [
    "subsitite(\"Why does ?P need ?X ?\".split(), pat_to_dict(john_pat))"
   ]
  },
  {
   "cell_type": "code",
   "execution_count": 79,
   "metadata": {},
   "outputs": [
    {
     "data": {
      "text/plain": [
       "'Why does John need vacation ?'"
      ]
     },
     "execution_count": 79,
     "metadata": {},
     "output_type": "execute_result"
    }
   ],
   "source": [
    "' '.join(subsitite(\"Why does ?P need ?X ?\".split(), pat_to_dict(john_pat)))"
   ]
  },
  {
   "cell_type": "markdown",
   "metadata": {},
   "source": [
    "那么如果我们现在定义一些patterns，就可以实现基于模板的对话生成了:"
   ]
  },
  {
   "cell_type": "code",
   "execution_count": 80,
   "metadata": {},
   "outputs": [],
   "source": [
    "# 定义问答模板\n",
    "defined_patterns = {\n",
    "    \"I need ?X\": [\"Image you will get ?X soon\", \"Why do you need ?X ?\"], \n",
    "    \"My ?X told me something\": [\"Talk about more about your ?X\", \"How do you think about your ?X ?\"]\n",
    "}"
   ]
  },
  {
   "cell_type": "code",
   "execution_count": 81,
   "metadata": {},
   "outputs": [
    {
     "data": {
      "text/plain": [
       "'How do you think about your mother ?'"
      ]
     },
     "execution_count": 81,
     "metadata": {},
     "output_type": "execute_result"
    }
   ],
   "source": [
    "import random\n",
    "def get_response(saying, rules):\n",
    "    \"\"\"\" please implement the code, to get the response as followings:\n",
    "    \n",
    "    >>> get_response('I need iPhone') \n",
    "    >>> Image you will get iPhone soon\n",
    "    >>> get_response(\"My mother told me something\")\n",
    "    >>> Talk about more about your monther.\n",
    "    \"\"\"\n",
    "    # 找到提问对应问题模板\n",
    "    # 提取问题的变量及值\n",
    "    found_template = ''\n",
    "    found_placeholders = []\n",
    "    found_answers = []\n",
    "    for question_template in rules.keys():\n",
    "        placeholders = pat_match(question_template.split(), saying.split())\n",
    "        if len(placeholders) != 0:\n",
    "            found_template = question_template\n",
    "            found_placeholders = placeholders\n",
    "            found_answers = rules[question_template]\n",
    "#     print(found_template)\n",
    "#     print(found_placeholders)\n",
    "#     print(found_answers)\n",
    "    # 随机选择回答\n",
    "    choice_answer = found_answers[random.randint(0,len(found_answers)-1)]\n",
    "#     print(choice_answer)\n",
    "    # 替换回答的变量值为问题中提取的变量值\n",
    "    final_answer = subsitite(choice_answer.split(), pat_to_dict(found_placeholders))\n",
    "#     print(final_answer)\n",
    "    final_answer = ' '.join(final_answer)\n",
    "    return final_answer\n",
    "\n",
    "    \n",
    "get_response('I need iPhone', defined_patterns)\n",
    "get_response(\"My mother told me something\", defined_patterns)"
   ]
  },
  {
   "cell_type": "markdown",
   "metadata": {},
   "source": [
    "### Segment Match"
   ]
  },
  {
   "cell_type": "markdown",
   "metadata": {},
   "source": [
    "我们上边的这种形式，能够进行一些初级的对话了，但是我们的模式逐字逐句匹配的， \"I need iPhone\" 和 \"I need ?X\" 可以匹配，但是\"I need an iPhone\" 和 \"I need ?X\" 就不匹配了，那怎么办？ \n",
    "\n",
    "为了解决这个问题，我们可以新建一个变量类型 \"?\\*X\", 这种类型多了一个星号(\\*),表示匹配多个"
   ]
  },
  {
   "cell_type": "markdown",
   "metadata": {},
   "source": [
    "首先，和前文类似，我们需要定义一个判断是不是匹配多个的variable"
   ]
  },
  {
   "cell_type": "code",
   "execution_count": 82,
   "metadata": {},
   "outputs": [],
   "source": [
    "# 定义多单词匹配占位符格式 ?*+字母\n",
    "def is_pattern_segment(pattern):\n",
    "    return pattern.startswith('?*') and all(a.isalpha() for a in pattern[2:])"
   ]
  },
  {
   "cell_type": "code",
   "execution_count": 83,
   "metadata": {},
   "outputs": [
    {
     "data": {
      "text/plain": [
       "True"
      ]
     },
     "execution_count": 83,
     "metadata": {},
     "output_type": "execute_result"
    }
   ],
   "source": [
    "is_pattern_segment('?*P')"
   ]
  },
  {
   "cell_type": "code",
   "execution_count": 84,
   "metadata": {},
   "outputs": [],
   "source": [
    "from collections import defaultdict"
   ]
  },
  {
   "cell_type": "markdown",
   "metadata": {},
   "source": [
    "然后我们把之前的 ```pat_match```程序改写成如下， 主要是增加了 ``` is_pattern_segment ```的部分. "
   ]
  },
  {
   "cell_type": "code",
   "execution_count": 85,
   "metadata": {},
   "outputs": [],
   "source": [
    "fail = [True, None]\n",
    "\n",
    "# 语句列表和模式列表是否匹配，若是则返回匹配内容。\n",
    "# 支持识别多个占位符的对应关系\n",
    "# 支持占位符匹配多个单词\n",
    "def pat_match_with_seg(pattern, saying):\n",
    "    if not pattern or not saying: return []\n",
    "    \n",
    "    pat = pattern[0]\n",
    "    \n",
    "    if is_variable(pat):\n",
    "        return [(pat, saying[0])] + pat_match_with_seg(pattern[1:], saying[1:])\n",
    "    elif is_pattern_segment(pat):\n",
    "        match, index = segment_match(pattern, saying)\n",
    "        return [match] + pat_match_with_seg(pattern[1:], saying[index:])\n",
    "    elif pat == saying[0]:\n",
    "        return pat_match_with_seg(pattern[1:], saying[1:])\n",
    "    else:\n",
    "        return fail"
   ]
  },
  {
   "cell_type": "code",
   "execution_count": 86,
   "metadata": {},
   "outputs": [
    {
     "data": {
      "text/plain": [
       "[('?P', ['My', 'dog', 'and', 'my', 'cat'])]"
      ]
     },
     "execution_count": 86,
     "metadata": {},
     "output_type": "execute_result"
    }
   ],
   "source": [
    "pat_match_with_seg('?*P is very good'.split(), \"My dog and my cat is very good\".split())"
   ]
  },
  {
   "cell_type": "markdown",
   "metadata": {},
   "source": [
    "这段程序里比较重要的一个新函数是 ```segment_match```，这个函数输入是一个以 ```segment_pattern```开头的模式，尽最大可能进行，匹配到这个*边长*的变量对于的部分。"
   ]
  },
  {
   "cell_type": "code",
   "execution_count": 87,
   "metadata": {},
   "outputs": [],
   "source": [
    "# 语句列表和模式列表是否匹配，若是则返回匹配内容。\n",
    "# 支持识别一个占位符的对应关系\n",
    "# 支持占位符匹配多个单词\n",
    "# 支持返回匹配的多个单词数目\n",
    "def segment_match(pattern, saying):\n",
    "    seg_pat, rest = pattern[0], pattern[1:]\n",
    "    seg_pat = seg_pat.replace('?*', '?')\n",
    "\n",
    "    if not rest: return (seg_pat, saying), len(saying)    \n",
    "    \n",
    "    for i, token in enumerate(saying):\n",
    "        if rest[0] == token and is_match(rest[1:], saying[(i + 1):]):\n",
    "            return (seg_pat, saying[:i]), i\n",
    "    \n",
    "    return (seg_pat, saying), len(saying)\n",
    "\n",
    "def is_match(rest, saying):\n",
    "    if not rest and not saying:\n",
    "        return True\n",
    "    if not all(a.isalpha() for a in rest[0]):\n",
    "        return True\n",
    "    if rest[0] != saying[0]:\n",
    "        return False\n",
    "    return is_match(rest[1:], saying[1:])"
   ]
  },
  {
   "cell_type": "code",
   "execution_count": 88,
   "metadata": {},
   "outputs": [
    {
     "data": {
      "text/plain": [
       "(('?P', ['My', 'dog', 'and', 'my', 'cat']), 5)"
      ]
     },
     "execution_count": 88,
     "metadata": {},
     "output_type": "execute_result"
    }
   ],
   "source": [
    "segment_match('?*P is very good'.split(), \"My dog and my cat is very good\".split())"
   ]
  },
  {
   "cell_type": "markdown",
   "metadata": {},
   "source": [
    "现在，我们就可以做到以下的匹配模式了: "
   ]
  },
  {
   "cell_type": "code",
   "execution_count": 89,
   "metadata": {},
   "outputs": [
    {
     "data": {
      "text/plain": [
       "[('?P', ['My', 'dog']), ('?X', ['my', 'cat', 'is', 'very', 'cute'])]"
      ]
     },
     "execution_count": 89,
     "metadata": {},
     "output_type": "execute_result"
    }
   ],
   "source": [
    "pat_match_with_seg('?*P is very good and ?*X'.split(), \"My dog is very good and my cat is very cute\".split())"
   ]
  },
  {
   "cell_type": "code",
   "execution_count": 90,
   "metadata": {},
   "outputs": [
    {
     "data": {
      "text/plain": [
       "(('?P', ['My', 'dog']), 2)"
      ]
     },
     "execution_count": 90,
     "metadata": {},
     "output_type": "execute_result"
    }
   ],
   "source": [
    "segment_match('?*P is very good and ?*X'.split(), \"My dog is very good and my cat is very cute\".split())"
   ]
  },
  {
   "cell_type": "markdown",
   "metadata": {},
   "source": [
    "如果我们继续定义一些模板，我们进行匹配，就能够进行更加复杂的问题了: "
   ]
  },
  {
   "cell_type": "code",
   "execution_count": 91,
   "metadata": {},
   "outputs": [],
   "source": [
    "# 定义问答模板\n",
    "response_pair = {\n",
    "    'I need ?X': [\n",
    "        \"Why do you neeed ?X\"\n",
    "    ],\n",
    "    \"I dont like my ?X\": [\"What bad things did ?X do for you?\"]\n",
    "}"
   ]
  },
  {
   "cell_type": "code",
   "execution_count": 92,
   "metadata": {},
   "outputs": [
    {
     "data": {
      "text/plain": [
       "[('?X', ['an', 'iPhone'])]"
      ]
     },
     "execution_count": 92,
     "metadata": {},
     "output_type": "execute_result"
    }
   ],
   "source": [
    "pat_match_with_seg('I need ?*X'.split(), \n",
    "                  \"I need an iPhone\".split())"
   ]
  },
  {
   "cell_type": "code",
   "execution_count": 93,
   "metadata": {},
   "outputs": [
    {
     "data": {
      "text/plain": [
       "['Why', 'do', 'you', 'neeed', ['an', 'iPhone']]"
      ]
     },
     "execution_count": 93,
     "metadata": {},
     "output_type": "execute_result"
    }
   ],
   "source": [
    "subsitite(\"Why do you neeed ?X\".split(), pat_to_dict(pat_match_with_seg('I need ?*X'.split(), \n",
    "                  \"I need an iPhone\".split())))"
   ]
  },
  {
   "cell_type": "markdown",
   "metadata": {},
   "source": [
    " 我们会发现，pat_to_dict在这个场景下会有有一点小问题，没关系，修正一些: "
   ]
  },
  {
   "cell_type": "code",
   "execution_count": 94,
   "metadata": {},
   "outputs": [],
   "source": [
    "def pat_to_dict(patterns):\n",
    "    return {k: ' '.join(v) if isinstance(v, list) else v for k, v in patterns}"
   ]
  },
  {
   "cell_type": "code",
   "execution_count": 95,
   "metadata": {},
   "outputs": [
    {
     "data": {
      "text/plain": [
       "['Why', 'do', 'you', 'neeed', 'an iPhone']"
      ]
     },
     "execution_count": 95,
     "metadata": {},
     "output_type": "execute_result"
    }
   ],
   "source": [
    "subsitite(\"Why do you neeed ?X\".split(), pat_to_dict(pat_match_with_seg('I need ?*X'.split(), \n",
    "                  \"I need an iPhone\".split())))"
   ]
  },
  {
   "cell_type": "markdown",
   "metadata": {},
   "source": [
    "如果我们定义这样的一个模板:"
   ]
  },
  {
   "cell_type": "code",
   "execution_count": 96,
   "metadata": {},
   "outputs": [
    {
     "data": {
      "text/plain": [
       "('?*X hello ?*Y', 'Hi, how do you do')"
      ]
     },
     "execution_count": 96,
     "metadata": {},
     "output_type": "execute_result"
    }
   ],
   "source": [
    "(\"?*X hello ?*Y\", \"Hi, how do you do\")"
   ]
  },
  {
   "cell_type": "code",
   "execution_count": 97,
   "metadata": {},
   "outputs": [
    {
     "data": {
      "text/plain": [
       "['Hi,', 'how', 'do', 'you', 'do?']"
      ]
     },
     "execution_count": 97,
     "metadata": {},
     "output_type": "execute_result"
    }
   ],
   "source": [
    "subsitite(\"Hi, how do you do?\".split(), pat_to_dict(pat_match_with_seg('?*X hello ?*Y'.split(), \n",
    "                  \"I am mike, hello \".split())))"
   ]
  },
  {
   "cell_type": "markdown",
   "metadata": {},
   "source": [
    "### 现在是你的时间了"
   ]
  },
  {
   "cell_type": "code",
   "execution_count": 98,
   "metadata": {},
   "outputs": [],
   "source": [
    "#我们给大家一些例子: \n",
    "    \n",
    "rules = {\n",
    "    \"?*X hello ?*Y\": [\"Hi, how do you do?\"],\n",
    "    \"I was ?*X\": [\"Were you really ?X ?\", \"I already knew you were ?X .\"]\n",
    "}"
   ]
  },
  {
   "cell_type": "markdown",
   "metadata": {},
   "source": [
    "### 问题1"
   ]
  },
  {
   "cell_type": "markdown",
   "metadata": {},
   "source": [
    "编写一个程序, ```get_response(saying, response_rules)```输入是一个字符串 + 我们定义的 rules，例如上边我们所写的 pattern， 输出是一个回答。"
   ]
  },
  {
   "cell_type": "code",
   "execution_count": 99,
   "metadata": {},
   "outputs": [
    {
     "data": {
      "text/plain": [
       "'Were you really saying hello ?'"
      ]
     },
     "execution_count": 99,
     "metadata": {},
     "output_type": "execute_result"
    }
   ],
   "source": [
    "def get_response(saying, rules):\n",
    "    # 找到提问对应问题模板\n",
    "    # 提取问题的变量及值\n",
    "    found_template = ''\n",
    "    found_placeholders = []\n",
    "    found_answers = []\n",
    "    for question_template in rules.keys():\n",
    "        placeholders = pat_match_with_seg(question_template.split(), saying.split())\n",
    "#         print('placeholders=', placeholders)\n",
    "#         if len(placeholders) != 0:\n",
    "        if placeholders[0] != True: #!= fail\n",
    "            found_template = question_template\n",
    "            found_placeholders = placeholders\n",
    "            found_answers = rules[question_template]\n",
    "#     print(found_template)\n",
    "#     print(found_placeholders)\n",
    "#     print(found_answers)\n",
    "    # 随机选择回答\n",
    "    choice_answer = found_answers[random.randint(0,len(found_answers)-1)]\n",
    "#     print(choice_answer)\n",
    "    # 替换回答的变量值为问题中提取的变量值\n",
    "    final_answer = subsitite(choice_answer.split(), pat_to_dict(found_placeholders))\n",
    "#     print(final_answer)\n",
    "    final_answer = ' '.join(final_answer)\n",
    "    return final_answer\n",
    "\n",
    "\n",
    "get_response('I was saying hello', rules)"
   ]
  },
  {
   "cell_type": "markdown",
   "metadata": {},
   "source": [
    "### 问题2"
   ]
  },
  {
   "cell_type": "markdown",
   "metadata": {},
   "source": [
    "改写以上程序，将程序变成能够支持中文输入的模式。\n",
    "*提示*: 你可以需用用到 jieba 分词"
   ]
  },
  {
   "cell_type": "code",
   "execution_count": 522,
   "metadata": {},
   "outputs": [],
   "source": [
    "rule_responses = {\n",
    "    '亿甲 hello 亿乙': ['How do you do', 'Please state your problem'],\n",
    "    '亿甲 I want 亿乙': ['what would it mean if you got 亿乙', 'Why do you want 亿乙', 'Suppose you got 亿乙 soon'],\n",
    "    '亿甲 if 亿乙': ['Do you really think its likely that 亿乙', 'Do you wish that 亿乙', 'What do you think about 亿乙', 'Really-- if 亿乙'],\n",
    "    '亿甲 no 亿乙': ['why not?', 'You are being a negative', 'Are you saying \\'No\\' just to be negative?'],\n",
    "    '亿甲 I was 亿乙': ['Were you really', 'Perhaps I already knew you were 亿乙', 'Why do you tell me you were 亿乙 now?'],\n",
    "    '亿甲 I feel 亿乙': ['Do you often feel 亿乙 ?', 'What other feelings do you have?'],\n",
    "    '亿甲你好亿乙': ['你好呀', '请告诉我你的问题'],\n",
    "    '亿甲我想亿乙': ['你觉得亿乙有什么意义呢？', '为什么你想亿乙', '你可以想想你很快就可以亿乙了'],\n",
    "    '亿甲我想要亿乙': ['亿甲想问你，你觉得亿乙有什么意义呢?', '为什么你想亿乙', '亿甲觉得... 你可以想想你很快就可以有亿乙了', '你看亿甲像亿乙不', '我看你就像亿乙'],\n",
    "    '亿甲喜欢亿乙': ['喜欢亿乙的哪里？', '亿乙有什么好的呢？', '你想要亿乙吗？'],\n",
    "    '亿甲讨厌亿乙': ['亿乙怎么会那么讨厌呢?', '讨厌亿乙的哪里？', '亿乙有什么不好呢？', '你不想要亿乙吗？'],\n",
    "    '亿甲AI亿乙': ['你为什么要提AI的事情？', '你为什么觉得AI要解决你的问题？'],\n",
    "    '亿甲机器人亿乙': ['你为什么要提机器人的事情？', '你为什么觉得机器人要解决你的问题？'],\n",
    "    '亿甲对不起亿乙': ['不用道歉', '你为什么觉得你需要道歉呢?'],\n",
    "    '亿甲我记得亿乙': ['你经常会想起这个吗？', '除了亿乙你还会想起什么吗？', '你为什么和我提起亿乙'],\n",
    "    '亿甲如果亿乙': ['你真的觉得亿乙会发生吗？', '你希望亿乙吗?', '真的吗？如果亿乙的话', '关于亿乙你怎么想？'],\n",
    "    '亿甲我?*z梦见亿乙':['真的吗? --- 亿乙', '你在醒着的时候，以前想象过亿乙吗？', '你以前梦见过亿乙吗'],\n",
    "    '亿甲妈妈亿乙': ['你家里除了亿乙还有谁?', '嗯嗯，多说一点和你家里有关系的', '她对你影响很大吗？'],\n",
    "    '亿甲爸爸亿乙': ['你家里除了亿乙还有谁?', '嗯嗯，多说一点和你家里有关系的', '他对你影响很大吗？', '每当你想起你爸爸的时候， 你还会想起其他的吗?'],\n",
    "    '亿甲我愿意亿乙': ['我可以帮你亿乙吗？', '你可以解释一下，为什么想亿乙'],\n",
    "    '亿甲我很难过，因为亿乙': ['我听到你这么说， 也很难过', '亿乙不应该让你这么难过的'],\n",
    "    '亿甲难过亿乙': ['我听到你这么说， 也很难过',\n",
    "                 '不应该让你这么难过的，你觉得你拥有什么，就会不难过?',\n",
    "                 '你觉得事情变成什么样，你就不难过了?'],\n",
    "    '亿甲就像亿乙': ['你觉得亿甲和亿乙有什么相似性？', '亿甲和亿乙真的有关系吗？', '怎么说？'],\n",
    "    '亿甲和亿乙都?*z': ['你觉得?z有什么问题吗?', '?z会对你有什么影响呢?'],\n",
    "    '亿甲和亿乙一样?*z': ['你觉得?z有什么问题吗?', '?z会对你有什么影响呢?'],\n",
    "    '亿甲我是亿乙': ['真的吗？', '亿甲想告诉你，或许我早就知道你是亿乙', '你为什么现在才告诉我你是亿乙'],\n",
    "    '亿甲我是亿乙吗': ['如果你是亿乙会怎么样呢？', '你觉得你是亿乙吗', '如果你是亿乙，那一位着什么?'],\n",
    "    '亿甲你是亿乙吗':  ['你为什么会对我是不是亿乙感兴趣?', '那你希望我是亿乙吗', '你要是喜欢， 我就会是亿乙'],\n",
    "    '亿甲你是亿乙' : ['为什么你觉得我是亿乙'],\n",
    "    '亿甲因为亿乙' : ['亿乙是真正的原因吗？', '你觉得会有其他原因吗?'],\n",
    "    '亿甲我不能亿乙': ['你或许现在就能亿乙', '如果你能亿乙,会怎样呢？'],\n",
    "    '亿甲我觉得亿乙': ['你经常这样感觉吗？', '除了到这个，你还有什么其他的感觉吗？'],\n",
    "    '亿甲我亿乙你?*z': ['其实很有可能我们互相亿乙'],\n",
    "    '亿甲你为什么不亿乙': ['你自己为什么不亿乙', '你觉得我不会亿乙', '等我心情好了，我就亿乙'],\n",
    "    '亿甲好的亿乙': ['好的', '你是一个很正能量的人'],\n",
    "    '亿甲嗯嗯亿乙': ['好的', '你是一个很正能量的人'],\n",
    "    '亿甲不嘛亿乙': ['为什么不？', '你有一点负能量', '你说 不，是想表达不想的意思吗？'],\n",
    "    '亿甲不要亿乙': ['为什么不？', '你有一点负能量', '你说 不，是想表达不想的意思吗？'],\n",
    "    '亿甲有些人亿乙': ['具体是哪些人呢?'],\n",
    "    '亿甲有的人亿乙': ['具体是哪些人呢?'],\n",
    "    '亿甲某些人亿乙': ['具体是哪些人呢?'],\n",
    "    '亿甲每个人亿乙': ['我确定不是人人都是', '你能想到一点特殊情况吗？', '例如谁？', '你看到的其实只是一小部分人'],\n",
    "    '亿甲所有人亿乙': ['我确定不是人人都是', '你能想到一点特殊情况吗？', '例如谁？', '你看到的其实只是一小部分人'],\n",
    "    '亿甲总是亿乙': ['你能想到一些其他情况吗?', '例如什么时候?', '你具体是说哪一次？', '真的---总是吗？'],\n",
    "    '亿甲一直亿乙': ['你能想到一些其他情况吗?', '例如什么时候?', '你具体是说哪一次？', '真的---总是吗？'],\n",
    "    '亿甲或许亿乙': ['你看起来不太确定'],\n",
    "    '亿甲可能亿乙': ['你看起来不太确定'],\n",
    "    '亿甲他们是亿乙吗？': ['你觉得他们可能不是亿乙？'],\n",
    "    '亿甲': ['很有趣', '请继续', '我不太确定我很理解你说的, 能稍微详细解释一下吗?']\n",
    "}"
   ]
  },
  {
   "cell_type": "code",
   "execution_count": 539,
   "metadata": {},
   "outputs": [
    {
     "name": "stdout",
     "output_type": "stream",
     "text": [
      "找到对应模板：\n",
      "问题= ['山水', '就', '像', '兄弟']\n",
      "问题模板= ['亿甲', '就', '像', '亿乙']\n",
      "提取对应变量值： [('亿甲', ['山水']), ('亿乙', ['兄弟'])]\n",
      "问题模板 亿甲就像亿乙\n",
      "待替换内容 [('亿甲', ['山水']), ('亿乙', ['兄弟'])]\n",
      "回答模板 ['你觉得亿甲和亿乙有什么相似性？', '亿甲和亿乙真的有关系吗？', '怎么说？']\n",
      "['亿甲', '和', '亿乙', '真的', '有', '关系', '吗', '？']\n"
     ]
    },
    {
     "data": {
      "text/plain": [
       "'山水 和 兄弟 真的 有 关系 吗 ？'"
      ]
     },
     "execution_count": 539,
     "metadata": {},
     "output_type": "execute_result"
    }
   ],
   "source": [
    "import jieba\n",
    "\n",
    "tpl_vars = ['亿甲','亿乙']\n",
    "\n",
    "jieba.add_word('亿甲', freq=1, tag=None)\n",
    "jieba.add_word('亿乙', freq=1, tag=None)\n",
    "\n",
    "def is_chinese(ch):\n",
    "    return '\\u4e00' <= ch <= '\\u9fa5'\n",
    "\n",
    "# 定义多字匹配占位符格式 ?*+字\n",
    "def is_pattern_segment(pattern):\n",
    "    return pattern.startswith('亿') and all(is_chinese(a) for a in pattern[1:])\n",
    "\n",
    "fail = [True, None]\n",
    "# 语句列表和模式列表是否匹配，若是则返回匹配内容。\n",
    "# 支持识别多个占位符的对应关系\n",
    "# 支持占位符匹配多个单词\n",
    "# pattern saying 都是 list\n",
    "def pat_match_with_seg(pattern, saying):\n",
    "    if not pattern or not saying: return []\n",
    "    \n",
    "    pat = pattern[0]\n",
    "    \n",
    "    # 占位符匹配单个单词\n",
    "    if is_variable(pat):\n",
    "        return [(pat, saying[0])] + pat_match_with_seg(pattern[1:], saying[1:])\n",
    "    # 占位符匹配多个单词\n",
    "    elif is_pattern_segment(pat):\n",
    "        match, index = segment_match(pattern, saying)\n",
    "        return [match] + pat_match_with_seg(pattern[1:], saying[index:])\n",
    "    elif pat == saying[0]:\n",
    "        return pat_match_with_seg(pattern[1:], saying[1:])\n",
    "    else:\n",
    "        return fail\n",
    "# 语句列表和模式列表是否匹配，若是则返回匹配内容。\n",
    "# 支持识别一个占位符的对应关系\n",
    "# 支持占位符匹配多个单词\n",
    "# 支持返回匹配的多个单词数目\n",
    "def segment_match(pattern, saying):\n",
    "    seg_pat, rest = pattern[0], pattern[1:]\n",
    "    seg_pat = seg_pat.replace('?*', '?')\n",
    "\n",
    "    if not rest: return (seg_pat, saying), len(saying)    \n",
    "    \n",
    "    for i, token in enumerate(saying):\n",
    "#         if rest[0] == token and is_match(rest[1:], saying[(i + 1):]):\n",
    "        if rest[0] == token:\n",
    "            return (seg_pat, saying[:i]), i\n",
    "    \n",
    "    return (seg_pat, saying), len(saying)\n",
    "\n",
    "def is_match(rest, saying):\n",
    "    if not rest and not saying:\n",
    "        return True\n",
    "    if not all(is_chinese(a) for a in rest[0]):\n",
    "        return True\n",
    "    if rest[0] != saying[0]:\n",
    "        return False\n",
    "    return is_match(rest[1:], saying[1:])\n",
    "\n",
    "def no_match(question_template, saying):\n",
    "    for var in tpl_vars:\n",
    "        question_template = question_template.replace(var,'|')\n",
    "    tpl_list = question_template.split('|')\n",
    "    for tpl_item in tpl_list:\n",
    "        if tpl_item not in saying:\n",
    "            return True\n",
    "    return False\n",
    "    \n",
    "def get_response(saying, rules):\n",
    "    # 找到提问对应问题模板\n",
    "    # 提取问题的变量及值\n",
    "    for question_template in rules.keys():\n",
    "        if no_match(question_template, saying):\n",
    "            continue\n",
    "        say_list = [word for word in jieba.cut(saying)]\n",
    "        tpl_list = [word for word in jieba.cut(question_template)]\n",
    "        print('找到对应模板：')\n",
    "        print(\"问题=\",say_list)\n",
    "        print(\"问题模板=\",tpl_list)\n",
    "\n",
    "        placeholders = pat_match_with_seg(tpl_list, say_list)\n",
    "        print('提取对应变量值：', placeholders)\n",
    "        if len(placeholders) != 0 and placeholders[0] != True: #!= fail\n",
    "\n",
    "            found_template = question_template\n",
    "            found_placeholders = placeholders\n",
    "            found_answers = rules[question_template]\n",
    "            print('问题模板',found_template)\n",
    "            print('待替换内容',found_placeholders)\n",
    "            print('回答模板',found_answers)\n",
    "            # 随机选择回答\n",
    "            choice_answer = found_answers[random.randint(0,len(found_answers)-1)]\n",
    "        #     print(choice_answer)\n",
    "            # 替换回答的变量值为问题中提取的变量值\n",
    "            choice_list = [word for word in jieba.cut(choice_answer)]\n",
    "            print(choice_list)\n",
    "            final_answer = subsitite(choice_list, pat_to_dict(found_placeholders))\n",
    "        #     print(final_answer)\n",
    "            final_answer = ' '.join(final_answer)\n",
    "            return final_answer\n",
    "    return '不知道你在说啥？'\n",
    "\n",
    "\n",
    "get_response('山水就像兄弟', rule_responses)"
   ]
  },
  {
   "cell_type": "markdown",
   "metadata": {},
   "source": [
    "### 问题3"
   ]
  },
  {
   "cell_type": "markdown",
   "metadata": {},
   "source": [
    "多设计一些模式，让这个程序变得更好玩，多和大家交流，看看大家有什么好玩的模式"
   ]
  },
  {
   "cell_type": "markdown",
   "metadata": {},
   "source": [
    "### 问题4"
   ]
  },
  {
   "cell_type": "markdown",
   "metadata": {},
   "source": [
    "1. 这样的程序有什么优点？有什么缺点？你有什么可以改进的方法吗？ \n",
    "  - 优点：支持自定义问答模板\n",
    "  - 缺点：相同意思的问题要定义多个问答对，不支持模糊匹配\n",
    "  - 改进：计算问题/回答的相似度，提供最相似的几个问题/回答，让用户能自己选择\n",
    "\n",
    "2. 什么是数据驱动？数据驱动在这个程序里如何体现？\n",
    "数据驱动就是用一套通用代码支持不同的数据输入，得到对应输出。体现在支持问答模板。\n",
    "\n",
    "3. 数据驱动与 AI 的关系是什么？ \n",
    "数据驱动的模型是AI的一种实现方式。"
   ]
  },
  {
   "cell_type": "code",
   "execution_count": null,
   "metadata": {},
   "outputs": [],
   "source": []
  }
 ],
 "metadata": {
  "kernelspec": {
   "display_name": "Python 3",
   "language": "python",
   "name": "python3"
  },
  "language_info": {
   "codemirror_mode": {
    "name": "ipython",
    "version": 3
   },
   "file_extension": ".py",
   "mimetype": "text/x-python",
   "name": "python",
   "nbconvert_exporter": "python",
   "pygments_lexer": "ipython3",
   "version": "3.7.1"
  },
  "latex_envs": {
   "LaTeX_envs_menu_present": true,
   "autoclose": false,
   "autocomplete": true,
   "bibliofile": "biblio.bib",
   "cite_by": "apalike",
   "current_citInitial": 1,
   "eqLabelWithNumbers": true,
   "eqNumInitial": 1,
   "hotkeys": {
    "equation": "Ctrl-E",
    "itemize": "Ctrl-I"
   },
   "labels_anchors": false,
   "latex_user_defs": false,
   "report_style_numbering": false,
   "user_envs_cfg": false
  },
  "toc": {
   "base_numbering": 1,
   "nav_menu": {},
   "number_sections": true,
   "sideBar": true,
   "skip_h1_title": false,
   "title_cell": "Table of Contents",
   "title_sidebar": "Contents",
   "toc_cell": false,
   "toc_position": {},
   "toc_section_display": true,
   "toc_window_display": true
  }
 },
 "nbformat": 4,
 "nbformat_minor": 2
}
