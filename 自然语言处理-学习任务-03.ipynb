{
 "cells": [
  {
   "cell_type": "markdown",
   "metadata": {},
   "source": [
    "## 动态规划 Dymanic Programming"
   ]
  },
  {
   "cell_type": "markdown",
   "metadata": {},
   "source": [
    "### 切钢筋问题"
   ]
  },
  {
   "cell_type": "code",
   "execution_count": 104,
   "metadata": {},
   "outputs": [
    {
     "name": "stdout",
     "output_type": "stream",
     "text": [
      "25\n"
     ]
    },
    {
     "data": {
      "text/plain": [
       "[(('r', 1), 1),\n",
       " (('r', 2), 1),\n",
       " (('r', 3), 1),\n",
       " (('r', 4), 1),\n",
       " (('r', 5), 1),\n",
       " (('r', 6), 1),\n",
       " (('r', 7), 1),\n",
       " (('r', 8), 1),\n",
       " (('r', 9), 1)]"
      ]
     },
     "execution_count": 104,
     "metadata": {},
     "output_type": "execute_result"
    }
   ],
   "source": [
    "original_price = [1, 5, 8, 9, 10, 17, 17, 20, 24, 30]\n",
    "\n",
    "from collections import defaultdict\n",
    "price = defaultdict(int)\n",
    "\n",
    "for i, p in enumerate(original_price):\n",
    "    price[i+1]=p\n",
    "\n",
    "\n",
    "from functools import wraps\n",
    "called_time=defaultdict(int)\n",
    "def get_call_times(f):\n",
    "    @wraps(f)\n",
    "    def wrap(n):\n",
    "        result = f(n)\n",
    "        called_time[(f.__name__,n)]+=1\n",
    "        return result\n",
    "      \n",
    "    return wrap\n",
    "\n",
    "def memo(f):\n",
    "    memo.already_computed = {}\n",
    "    @wraps(f)\n",
    "    def _wrap(arg):\n",
    "        result = None\n",
    "        if arg in memo.already_computed:\n",
    "            result = memo.already_computed[arg]\n",
    "        else:\n",
    "            result = f(arg)\n",
    "            memo.already_computed[arg]=result\n",
    "        return result\n",
    "    return _wrap\n",
    "\n",
    "@memo\n",
    "@get_call_times\n",
    "def r(n):\n",
    "    return max(\n",
    "        [price[n]] +[r(i) + r(n-i) for i in range(1,n)]\n",
    "    )\n",
    "\n",
    "print(r(9))\n",
    "\n",
    "from collections import Counter\n",
    "\n",
    "Counter(called_time).most_common()"
   ]
  },
  {
   "cell_type": "code",
   "execution_count": 105,
   "metadata": {},
   "outputs": [
    {
     "name": "stdout",
     "output_type": "stream",
     "text": [
      "55\n",
      "{1: (1, 0), 2: (2, 0), 3: (3, 0), 4: (2, 2), 5: (3, 2), 6: (6, 0), 7: (6, 1), 8: (6, 2), 9: (6, 3), 10: (10, 0), 11: (10, 1), 12: (10, 2), 13: (10, 3), 14: (12, 2), 15: (13, 2), 16: (10, 6), 17: (16, 1), 18: (16, 2), 19: (16, 3)}\n"
     ]
    },
    {
     "data": {
      "text/plain": [
       "[10, 6, 3]"
      ]
     },
     "execution_count": 105,
     "metadata": {},
     "output_type": "execute_result"
    }
   ],
   "source": [
    "solution={}\n",
    "@memo\n",
    "def split(n):\n",
    "    max_price, max_split = max(\n",
    "        [(price[n],0)] + [(split(i)+split(n-i),i) for i in range(1,n)], key=lambda x:x[0]\n",
    "    )\n",
    "    solution[n] = (n - max_split, max_split)\n",
    "    return max_price\n",
    "    \n",
    "def parse_solution(n):\n",
    "    left_split, right_split = solution[n]\n",
    "    if right_split == 0:\n",
    "        return [left_split]\n",
    "    #list拼接\n",
    "    return parse_solution(left_split)+parse_solution(right_split)\n",
    "\n",
    "print(split(19))\n",
    "print(solution)\n",
    "parse_solution(19)"
   ]
  },
  {
   "cell_type": "markdown",
   "metadata": {},
   "source": [
    "### 编辑距离问题"
   ]
  },
  {
   "cell_type": "code",
   "execution_count": 106,
   "metadata": {},
   "outputs": [],
   "source": [
    "solution = {}"
   ]
  },
  {
   "cell_type": "code",
   "execution_count": 107,
   "metadata": {},
   "outputs": [],
   "source": [
    "from functools import lru_cache \n",
    "@lru_cache(maxsize=2**10)\n",
    "def edit_distance(string1, string2):\n",
    "    #特殊情况直接得出结果\n",
    "    if len(string1) == 0: return len(string2)\n",
    "    if len(string2) == 0: return len(string1)\n",
    "    \n",
    "    #末尾对比\n",
    "    tail_s1 = string1[-1]\n",
    "    tail_s2 = string2[-1]\n",
    "    \n",
    "    #candidates记录当前所以可能的子操作\n",
    "    #分解子问题，对于长度不同情况，要么左边删除末尾得到右边，要么左边增加末尾得到右边\n",
    "    candidates = [\n",
    "        (edit_distance(string1[:-1], string2) + 1, 'DEL {}'.format(tail_s1)),  # string 1 delete tail\n",
    "        (edit_distance(string1, string2[:-1]) + 1, 'ADD {}'.format(tail_s2)),  # string 1 add tail of string2\n",
    "    ]\n",
    "    \n",
    "    #末尾相同，则左右字符串进一步对比去除末尾的其余字符串\n",
    "    if tail_s1 == tail_s2:\n",
    "        both_forward = (edit_distance(string1[:-1], string2[:-1]) + 0, '')\n",
    "    #末尾不同，则左右字符串通过修改末尾从左边得到右边，再进一步对比去除末尾的其余字符串\n",
    "    else:\n",
    "        both_forward = (edit_distance(string1[:-1], string2[:-1]) + 1, 'SUB {} => {}'.format(tail_s1, tail_s2))\n",
    "\n",
    "    #分解子问题，继续记录当前可能的子操作\n",
    "    candidates.append(both_forward)\n",
    "    \n",
    "    #在当前所以可能子操作中求最短的编辑路径\n",
    "    min_distance, operation = min(candidates, key=lambda x: x[0])\n",
    "    \n",
    "    #将当前状态的最佳操作记录起来\n",
    "    solution[(string1, string2)] = operation \n",
    "    \n",
    "    return min_distance"
   ]
  },
  {
   "cell_type": "code",
   "execution_count": 120,
   "metadata": {},
   "outputs": [],
   "source": [
    "def parse_solution(a,b):\n",
    "    action = solution[(a,b)]\n",
    "    if a==b and action == '':\n",
    "        return []\n",
    "    if 'ADD' in action:\n",
    "        next_a=a\n",
    "        next_b=b[:-1]\n",
    "    if 'DEL' in action:\n",
    "        next_a=a[:-1]\n",
    "        next_b=b\n",
    "    if 'SUB' in action:\n",
    "        next_a=a[:-1]\n",
    "        next_b=b[:-1]\n",
    "    if a!=b and action =='':\n",
    "        next_a=a[:-1]\n",
    "        next_b=b[:-1]\n",
    "    #list拼接\n",
    "    return parse_solution(next_a, next_b)+[action]\n"
   ]
  },
  {
   "cell_type": "code",
   "execution_count": 121,
   "metadata": {},
   "outputs": [
    {
     "name": "stdout",
     "output_type": "stream",
     "text": [
      "2\n",
      "{('A', 'A'): '', ('A', 'AB'): 'ADD B', ('A', 'ABC'): 'ADD C', ('A', 'ABCC'): 'ADD C', ('A', 'ABCCE'): 'ADD E', ('A', 'ABCCEF'): 'ADD F', ('AB', 'A'): 'DEL B', ('AB', 'AB'): '', ('AB', 'ABC'): 'ADD C', ('AB', 'ABCC'): 'ADD C', ('AB', 'ABCCE'): 'ADD E', ('AB', 'ABCCEF'): 'ADD F', ('ABB', 'A'): 'DEL B', ('ABB', 'AB'): 'DEL B', ('ABB', 'ABC'): 'SUB B => C', ('ABB', 'ABCC'): 'ADD C', ('ABB', 'ABCCE'): 'ADD E', ('ABB', 'ABCCEF'): 'ADD F', ('ABBE', 'A'): 'DEL E', ('ABBE', 'AB'): 'DEL E', ('ABBE', 'ABC'): 'DEL E', ('ABBE', 'ABCC'): 'SUB E => C', ('ABBE', 'ABCCE'): '', ('ABBE', 'ABCCEF'): 'ADD F', ('ABBEE', 'A'): 'DEL E', ('ABBEE', 'AB'): 'DEL E', ('ABBEE', 'ABC'): 'DEL E', ('ABBEE', 'ABCC'): 'DEL E', ('ABBEE', 'ABCCE'): '', ('ABBEE', 'ABCCEF'): 'ADD F', ('ABBEEF', 'A'): 'DEL F', ('ABBEEF', 'AB'): 'DEL F', ('ABBEEF', 'ABC'): 'DEL F', ('ABBEEF', 'ABCC'): 'DEL F', ('ABBEEF', 'ABCCE'): 'DEL F', ('ABBEEF', 'ABCCEF'): ''}\n"
     ]
    },
    {
     "data": {
      "text/plain": [
       "['SUB B => C', 'SUB E => C', '', '']"
      ]
     },
     "execution_count": 121,
     "metadata": {},
     "output_type": "execute_result"
    }
   ],
   "source": [
    "print(edit_distance('ABBEEF', 'ABCCEF'))\n",
    "print(solution)\n",
    "parse_solution('ABBEEF', 'ABCCEF')"
   ]
  },
  {
   "cell_type": "markdown",
   "metadata": {},
   "source": [
    "## 动态规划QA"
   ]
  },
  {
   "cell_type": "markdown",
   "metadata": {},
   "source": [
    "1. 为什么我们需要动态规划？动态规划和搜索方法的区别是什么？"
   ]
  },
  {
   "cell_type": "markdown",
   "metadata": {},
   "source": [
    "原先的搜索方法遇到重复的子问题时不会将解保存起来，导致计算效率低。为了提高效率，我们用动态规划，通过表存储重复子问题的解。"
   ]
  },
  {
   "cell_type": "markdown",
   "metadata": {},
   "source": [
    "2. 同样的问题，为什么我们需要动态规划？为什么不通过训练一个机器学习模型来根据输入得到“正确”的答案？"
   ]
  },
  {
   "cell_type": "markdown",
   "metadata": {},
   "source": [
    "因为机器学习通常需要大量数据，而动态规划解决的问题往往只有有限的数据，需要从有限数据找出规律，因此需要我们将问题抽象出重复的子问题进行求解。"
   ]
  },
  {
   "cell_type": "markdown",
   "metadata": {},
   "source": [
    "3. 举出三个可以用动态规划解决的问题？"
   ]
  },
  {
   "cell_type": "markdown",
   "metadata": {},
   "source": [
    "1. 资源分配问题\n",
    "2. 字符串匹配问题（如编辑距离）\n",
    "3. 最短路径问题（旅行商问题）"
   ]
  },
  {
   "cell_type": "markdown",
   "metadata": {},
   "source": [
    "4. 举出三个可以用编辑距离解决的问题？"
   ]
  },
  {
   "cell_type": "markdown",
   "metadata": {},
   "source": [
    "1. 单词相似度计算\n",
    "2. 单词纠错\n",
    "3. 输入自动补全"
   ]
  },
  {
   "cell_type": "markdown",
   "metadata": {},
   "source": [
    "5. 总结动态规划的三个主要特点，并且简要描述每个特点。"
   ]
  },
  {
   "cell_type": "markdown",
   "metadata": {},
   "source": [
    "1. 原问题**可以**分解为重叠的子问题。重叠子问题的本质就是待研究问题对象的不同状态，彼此之间存在转移关系，如何分解即我们要寻找的状态转移方程。\n",
    "2. 重叠的子问题的解**可以**记录到一个表中。表的key存储方程参数，value存储方程结果。\n",
    "3. 原问题的最终解**可以**通过不断查表得到。不断查表求解就是把原问题拆解后的所有子问题的解合并起来。"
   ]
  },
  {
   "cell_type": "markdown",
   "metadata": {},
   "source": [
    "6. 动态规划的缺点是什么？"
   ]
  },
  {
   "cell_type": "markdown",
   "metadata": {},
   "source": [
    "缺点是存在维数灾难问题。因为每次都要对所有子问题的状态进行遍历，当状态非常大的适合计算量就非常大。"
   ]
  },
  {
   "cell_type": "code",
   "execution_count": null,
   "metadata": {},
   "outputs": [],
   "source": []
  }
 ],
 "metadata": {
  "kernelspec": {
   "display_name": "Python 3",
   "language": "python",
   "name": "python3"
  },
  "language_info": {
   "codemirror_mode": {
    "name": "ipython",
    "version": 3
   },
   "file_extension": ".py",
   "mimetype": "text/x-python",
   "name": "python",
   "nbconvert_exporter": "python",
   "pygments_lexer": "ipython3",
   "version": "3.7.1"
  },
  "toc": {
   "base_numbering": 1,
   "nav_menu": {},
   "number_sections": true,
   "sideBar": true,
   "skip_h1_title": false,
   "title_cell": "Table of Contents",
   "title_sidebar": "Contents",
   "toc_cell": false,
   "toc_position": {},
   "toc_section_display": true,
   "toc_window_display": false
  }
 },
 "nbformat": 4,
 "nbformat_minor": 2
}
