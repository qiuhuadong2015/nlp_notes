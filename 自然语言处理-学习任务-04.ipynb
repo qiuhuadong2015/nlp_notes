{
 "cells": [
  {
   "cell_type": "markdown",
   "metadata": {},
   "source": [
    "## 下载wiki语料\n",
    "https://dumps.wikimedia.org/zhwiki/20190720/"
   ]
  },
  {
   "cell_type": "markdown",
   "metadata": {},
   "source": [
    "## 使用解压wiki语料包的工具\n",
    "https://github.com/attardi/wikiextractor"
   ]
  },
  {
   "cell_type": "markdown",
   "metadata": {},
   "source": [
    "## 繁体转化简体"
   ]
  },
  {
   "cell_type": "code",
   "execution_count": null,
   "metadata": {},
   "outputs": [],
   "source": [
    "!tail dataset/wiki_01"
   ]
  },
  {
   "cell_type": "code",
   "execution_count": 18,
   "metadata": {},
   "outputs": [
    {
     "name": "stdout",
     "output_type": "stream",
     "text": [
      "  % Total    % Received % Xferd  Average Speed   Time    Time     Time  Current\n",
      "                                 Dload  Upload   Total   Spent    Left  Speed\n",
      "100  7961  100  7961    0     0   2915      0  0:00:02  0:00:02 --:--:--  2913\n",
      "  % Total    % Received % Xferd  Average Speed   Time    Time     Time  Current\n",
      "                                 Dload  Upload   Total   Spent    Left  Speed\n",
      "100  139k  100  139k    0     0   4100      0  0:00:34  0:00:34 --:--:--  4236      0  0:00:36  0:00:34  0:00:02  5374\n"
     ]
    }
   ],
   "source": [
    "!curl -o langconv.py https://raw.githubusercontent.com/skydark/nstools/master/zhtools/langconv.py\n",
    "!curl -o zh_wiki.py https://raw.githubusercontent.com/skydark/nstools/master/zhtools/zh_wiki.py"
   ]
  },
  {
   "cell_type": "code",
   "execution_count": 12,
   "metadata": {},
   "outputs": [
    {
     "name": "stderr",
     "output_type": "stream",
     "text": [
      "  0%|          | 139/11913599 [00:00<2:24:32, 1373.77it/s]"
     ]
    },
    {
     "name": "stdout",
     "output_type": "stream",
     "text": [
      "lines= 11913599\n"
     ]
    },
    {
     "name": "stderr",
     "output_type": "stream",
     "text": [
      "100%|██████████| 11913599/11913599 [1:20:18<00:00, 2472.52it/s]\n"
     ]
    }
   ],
   "source": [
    "from langconv import Converter\n",
    "import jieba\n",
    "\n",
    "IN_FILE_PATHS = ['dataset/wiki_00', 'dataset/wiki_01']\n",
    "OUT_SUFFIX = '_out'\n",
    "\n",
    "def _count_file_lines(file_path):\n",
    "    lines = 0\n",
    "    with open(file_path, 'r', encoding='utf-8') as file:\n",
    "        for index, line in enumerate(file):\n",
    "            lines += 1\n",
    "\n",
    "def convert_to_simplified_style_and_cut(in_file_path, out_file_path):\n",
    "    out_file = open(out_file_path, 'a', encoding='utf-8')\n",
    "     \n",
    "    lines = _count_file_lines(in_file_path)\n",
    "    print('lines=',lines)\n",
    "    \n",
    "    with tqdm(total=lines) as pbar:\n",
    "        with open(in_file_path, 'r', encoding='utf-8') as file:\n",
    "                for line in file:\n",
    "                    line = Converter('zh-hans').convert(line)\n",
    "                    token_list = jieba.cut(line)\n",
    "                    new_line = ' '.join(token_list)\n",
    "                    out_file.write(new_line)\n",
    "                    out_file.write('\\n')\n",
    "                    pbar.update(1)\n",
    "\n",
    "for ipath in IN_FILE_PATHS:\n",
    "    opath = ipath + OUT_SUFFIX\n",
    "    convert_to_simplified_style_and_cut(ipath, opath)\n"
   ]
  },
  {
   "cell_type": "code",
   "execution_count": 14,
   "metadata": {},
   "outputs": [
    {
     "name": "stdout",
     "output_type": "stream",
     "text": [
      "\r\n",
      "\r\n",
      "< / doc >\r\n",
      "< doc   id = \" 6666866 \"   url = \" https : / / zh . wikipedia . org / wiki ? curid = 6666866 \"   title = \" 麦 可 · 柏 辛格 \" >\r\n",
      "麦 可 · 柏 辛格\r\n",
      "\r\n",
      "麦 可 · 柏 辛格 （ Mike   Bolsinger ， ）   ， 为 美国 的 棒球 选手 之一 ， 于于 2010 年 美国 职棒 选秀 为 亚利桑那 响尾蛇 选进 ， 曾于 2015 - 2016 年 二个 球季 于 洛杉矶 道奇 上过 大 联盟 。 2018 年 球季 效力 于 日本 职棒 千叶 罗德 海洋 队 ， 守备 位置 为 投手 。\r\n",
      "\r\n",
      "\r\n",
      "< / doc >\r\n"
     ]
    }
   ],
   "source": [
    "!tail dataset/wiki_01_out"
   ]
  },
  {
   "cell_type": "markdown",
   "metadata": {},
   "source": [
    "## 训练词向量模型"
   ]
  },
  {
   "cell_type": "code",
   "execution_count": 35,
   "metadata": {},
   "outputs": [],
   "source": [
    "import os\n",
    "import re\n",
    "import gensim\n",
    "from tqdm import tqdm\n",
    "\n",
    "COUNTS=5728930\n",
    "\n",
    "class MySentences(object):\n",
    "    def __init__(self, dirname):\n",
    "        self.dirname = dirname\n",
    "        self.line_filter_pattern = re.compile('<.*>')\n",
    " \n",
    "    def __iter__(self):\n",
    "        for fname in os.listdir(self.dirname):\n",
    "\n",
    "            if 'out' not in fname:\n",
    "                continue\n",
    "            print('train:',fname)\n",
    "            \n",
    "            with tqdm(total=COUNTS) as pbar:\n",
    "                for line in open(os.path.join(self.dirname, fname)):\n",
    "                    line = line.strip()\n",
    "                    if line==\"\" or self.line_filter_pattern.match(line):\n",
    "                        continue\n",
    "                    yield line.split()\n",
    "                    pbar.update(1)\n",
    "\n",
    "\n",
    "sentences = MySentences('dataset') # a memory-friendly iterator\n",
    "\n",
    "# counts = 0\n",
    "# for i,s in enumerate(sentences):\n",
    "#     counts+=1\n",
    "# print('counts=',counts)\n"
   ]
  },
  {
   "cell_type": "code",
   "execution_count": 36,
   "metadata": {},
   "outputs": [
    {
     "name": "stderr",
     "output_type": "stream",
     "text": [
      "  0%|          | 5355/5728930 [00:00<03:32, 26901.10it/s]"
     ]
    },
    {
     "name": "stdout",
     "output_type": "stream",
     "text": [
      "train: wiki_00_out\n"
     ]
    },
    {
     "name": "stderr",
     "output_type": "stream",
     "text": [
      " 76%|███████▌  | 4338861/5728930 [01:31<00:29, 47345.81it/s] \n",
      "  0%|          | 9774/5728930 [00:00<01:57, 48512.44it/s]"
     ]
    },
    {
     "name": "stdout",
     "output_type": "stream",
     "text": [
      "train: wiki_01_out\n"
     ]
    },
    {
     "name": "stderr",
     "output_type": "stream",
     "text": [
      " 24%|██▍       | 1390069/5728930 [00:28<01:29, 48475.42it/s]\n",
      "  0%|          | 1286/5728930 [00:00<07:25, 12859.61it/s]"
     ]
    },
    {
     "name": "stdout",
     "output_type": "stream",
     "text": [
      "train: wiki_00_out\n"
     ]
    },
    {
     "name": "stderr",
     "output_type": "stream",
     "text": [
      " 76%|███████▌  | 4338861/5728930 [03:45<01:12, 19203.38it/s]\n",
      "  0%|          | 2583/5728930 [00:00<04:02, 23608.74it/s]"
     ]
    },
    {
     "name": "stdout",
     "output_type": "stream",
     "text": [
      "train: wiki_01_out\n"
     ]
    },
    {
     "name": "stderr",
     "output_type": "stream",
     "text": [
      " 24%|██▍       | 1390069/5728930 [00:58<03:03, 23655.05it/s]\n",
      "  0%|          | 1826/5728930 [00:00<05:15, 18124.80it/s]"
     ]
    },
    {
     "name": "stdout",
     "output_type": "stream",
     "text": [
      "train: wiki_00_out\n"
     ]
    },
    {
     "name": "stderr",
     "output_type": "stream",
     "text": [
      " 76%|███████▌  | 4338861/5728930 [03:37<01:09, 19907.37it/s]\n",
      "  0%|          | 2367/5728930 [00:00<04:35, 20791.80it/s]"
     ]
    },
    {
     "name": "stdout",
     "output_type": "stream",
     "text": [
      "train: wiki_01_out\n"
     ]
    },
    {
     "name": "stderr",
     "output_type": "stream",
     "text": [
      " 24%|██▍       | 1390069/5728930 [01:05<03:25, 21128.19it/s]\n",
      "  0%|          | 1930/5728930 [00:00<05:20, 17883.47it/s]"
     ]
    },
    {
     "name": "stdout",
     "output_type": "stream",
     "text": [
      "train: wiki_00_out\n"
     ]
    },
    {
     "name": "stderr",
     "output_type": "stream",
     "text": [
      " 76%|███████▌  | 4338861/5728930 [03:45<01:12, 19262.19it/s]\n",
      "  0%|          | 2367/5728930 [00:00<04:16, 22313.54it/s]"
     ]
    },
    {
     "name": "stdout",
     "output_type": "stream",
     "text": [
      "train: wiki_01_out\n"
     ]
    },
    {
     "name": "stderr",
     "output_type": "stream",
     "text": [
      " 24%|██▍       | 1390069/5728930 [01:07<03:32, 20451.71it/s]\n",
      "  0%|          | 1664/5728930 [00:00<05:46, 16524.70it/s]"
     ]
    },
    {
     "name": "stdout",
     "output_type": "stream",
     "text": [
      "train: wiki_00_out\n"
     ]
    },
    {
     "name": "stderr",
     "output_type": "stream",
     "text": [
      " 76%|███████▌  | 4338861/5728930 [03:44<01:11, 19347.43it/s]\n",
      "  0%|          | 2367/5728930 [00:00<04:11, 22742.75it/s]"
     ]
    },
    {
     "name": "stdout",
     "output_type": "stream",
     "text": [
      "train: wiki_01_out\n"
     ]
    },
    {
     "name": "stderr",
     "output_type": "stream",
     "text": [
      " 24%|██▍       | 1390069/5728930 [01:07<03:32, 20448.63it/s]\n",
      "  0%|          | 1670/5728930 [00:00<05:47, 16461.78it/s]"
     ]
    },
    {
     "name": "stdout",
     "output_type": "stream",
     "text": [
      "train: wiki_00_out\n"
     ]
    },
    {
     "name": "stderr",
     "output_type": "stream",
     "text": [
      " 76%|███████▌  | 4338861/5728930 [03:41<01:10, 19588.91it/s]\n",
      "  0%|          | 2168/5728930 [00:00<04:28, 21300.21it/s]"
     ]
    },
    {
     "name": "stdout",
     "output_type": "stream",
     "text": [
      "train: wiki_01_out\n"
     ]
    },
    {
     "name": "stderr",
     "output_type": "stream",
     "text": [
      " 24%|██▍       | 1390069/5728930 [01:09<03:37, 19984.48it/s]\n"
     ]
    }
   ],
   "source": [
    "model = gensim.models.Word2Vec(sentences)"
   ]
  },
  {
   "cell_type": "code",
   "execution_count": 37,
   "metadata": {},
   "outputs": [],
   "source": [
    "model.save('task-4-model')"
   ]
  },
  {
   "cell_type": "markdown",
   "metadata": {},
   "source": [
    "## 加载模型测试同义词"
   ]
  },
  {
   "cell_type": "code",
   "execution_count": 1,
   "metadata": {},
   "outputs": [],
   "source": [
    "import gensim\n",
    "load_model = gensim.models.Word2Vec.load('task-4-model')"
   ]
  },
  {
   "cell_type": "code",
   "execution_count": 2,
   "metadata": {},
   "outputs": [
    {
     "name": "stderr",
     "output_type": "stream",
     "text": [
      "/Users/qiuhuadong/anaconda3/envs/uda-py36/lib/python3.7/site-packages/ipykernel_launcher.py:1: DeprecationWarning: Call to deprecated `most_similar` (Method will be removed in 4.0.0, use self.wv.most_similar() instead).\n",
      "  \"\"\"Entry point for launching an IPython kernel.\n"
     ]
    },
    {
     "data": {
      "text/plain": [
       "[('新闻记者', 0.8838781118392944),\n",
       " ('摄影记者', 0.8573684096336365),\n",
       " ('美联社', 0.7827507257461548),\n",
       " ('法新社', 0.7473775148391724),\n",
       " ('路透社', 0.7413724660873413),\n",
       " ('美国之音', 0.7159520387649536),\n",
       " ('CNN', 0.7129102945327759),\n",
       " ('评论员', 0.7102958559989929),\n",
       " ('专栏作家', 0.7060286998748779),\n",
       " ('采访记者', 0.6976608037948608)]"
      ]
     },
     "execution_count": 2,
     "metadata": {},
     "output_type": "execute_result"
    }
   ],
   "source": [
    "load_model.most_similar('记者')"
   ]
  },
  {
   "cell_type": "markdown",
   "metadata": {},
   "source": [
    "## 词向量可视化"
   ]
  },
  {
   "cell_type": "code",
   "execution_count": 5,
   "metadata": {},
   "outputs": [],
   "source": [
    "from sklearn.manifold import TSNE\n",
    "import matplotlib.pyplot as plt\n",
    "%matplotlib inline\n",
    "\n",
    "from tqdm import tqdm\n",
    "\n",
    "def tsne_plot(model):\n",
    "    \"Creates and TSNE model and plots it\"\n",
    "    labels = []\n",
    "    tokens = []\n",
    "\n",
    "    print('step1')\n",
    "    with tqdm(total=len(load_model.wv.vocab)) as pbar:\n",
    "        for word in model.wv.vocab:\n",
    "            tokens.append(model[word])\n",
    "            labels.append(word)\n",
    "            pbar.update(1)\n",
    "        \n",
    "    #此处非常慢\n",
    "    tsne_model = TSNE(perplexity=40, n_components=2, init='pca', n_iter=250, random_state=23)\n",
    "    new_values = tsne_model.fit_transform(tokens)\n",
    "\n",
    "    x = []\n",
    "    y = []\n",
    "    print('step2')\n",
    "    with tqdm(total=len(new_values)) as pbar:\n",
    "        for value in new_values:\n",
    "            x.append(value[0])\n",
    "            y.append(value[1])\n",
    "            pbar.update(1)\n",
    "        \n",
    "    plt.figure(figsize=(16, 16)) \n",
    "    print('step3')\n",
    "    with tqdm(total=len(x)) as pbar:\n",
    "        for i in range(len(x)):\n",
    "            plt.scatter(x[i],y[i])\n",
    "            plt.annotate(labels[i],\n",
    "                         xy=(x[i], y[i]),\n",
    "                         xytext=(5, 2),\n",
    "                         textcoords='offset points',\n",
    "                         ha='right',\n",
    "                         va='bottom')\n",
    "            pbar.update(1)\n",
    "    plt.show()\n",
    "    "
   ]
  },
  {
   "cell_type": "code",
   "execution_count": null,
   "metadata": {},
   "outputs": [
    {
     "name": "stderr",
     "output_type": "stream",
     "text": [
      "  0%|          | 0/695808 [00:00<?, ?it/s]/Users/qiuhuadong/anaconda3/envs/uda-py36/lib/python3.7/site-packages/ipykernel_launcher.py:15: DeprecationWarning: Call to deprecated `__getitem__` (Method will be removed in 4.0.0, use self.wv.__getitem__() instead).\n",
      "  from ipykernel import kernelapp as app\n",
      "  3%|▎         | 17780/695808 [00:00<00:03, 177796.35it/s]"
     ]
    },
    {
     "name": "stdout",
     "output_type": "stream",
     "text": [
      "step1\n"
     ]
    },
    {
     "name": "stderr",
     "output_type": "stream",
     "text": [
      "100%|██████████| 695808/695808 [00:03<00:00, 180999.99it/s]\n"
     ]
    }
   ],
   "source": [
    "tsne_plot(load_model)"
   ]
  }
 ],
 "metadata": {
  "kernelspec": {
   "display_name": "Python 3",
   "language": "python",
   "name": "python3"
  },
  "language_info": {
   "codemirror_mode": {
    "name": "ipython",
    "version": 3
   },
   "file_extension": ".py",
   "mimetype": "text/x-python",
   "name": "python",
   "nbconvert_exporter": "python",
   "pygments_lexer": "ipython3",
   "version": "3.7.1"
  },
  "toc": {
   "base_numbering": 1,
   "nav_menu": {},
   "number_sections": true,
   "sideBar": true,
   "skip_h1_title": false,
   "title_cell": "Table of Contents",
   "title_sidebar": "Contents",
   "toc_cell": false,
   "toc_position": {},
   "toc_section_display": true,
   "toc_window_display": false
  }
 },
 "nbformat": 4,
 "nbformat_minor": 2
}
